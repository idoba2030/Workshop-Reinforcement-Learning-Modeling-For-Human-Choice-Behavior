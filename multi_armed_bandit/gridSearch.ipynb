{
 "cells": [
  {
   "cell_type": "code",
   "execution_count": null,
   "metadata": {},
   "outputs": [],
   "source": [
    "import numpy as np\n",
    "import pandas as pd\n",
    "import matplotlib.pyplot as plt"
   ]
  },
  {
   "cell_type": "code",
   "execution_count": null,
   "metadata": {},
   "outputs": [],
   "source": [
    "#set initial var\n",
    "Narms              = 2\n",
    "Nblocks            = 4\n",
    "Ntrials            = 100\n",
    "data = pd.read_csv('./multiArmedSimulationData.csv')\n",
    "choices = data['choice'].to_numpy()\n",
    "rewards = data['reward'].to_numpy()\n",
    "alphas = [0.1, 0.2, 0.3, 0.4, 0.5, 0.6, 0.7, 0.8, 0.9]\n",
    "betas = [1, 2, 3, 4, 5, 6, 7, 8, 9, 10]"
   ]
  },
  {
   "cell_type": "code",
   "execution_count": null,
   "metadata": {},
   "outputs": [],
   "source": [
    "#for each parameter combination, get probability of choosing the action that was chosen\n",
    "all_likelihoods = []\n",
    "\n",
    "for alpha in alphas:\n",
    "    for beta in betas:\n",
    "        log_likelihood = []\n",
    "\n",
    "        for block in range(Nblocks):\n",
    "\n",
    "            Qval = np.repeat(0.5, Narms)\n",
    "\n",
    "            for trial in range(Ntrials):\n",
    "\n",
    "                #players choice probabilities\n",
    "                p = np.exp(beta * Qval) / np.sum(np.exp(beta * Qval))\n",
    "                choice = choices[trial] - 1\n",
    "                log_likelihood.append(np.log(p[choice]))\n",
    "\n",
    "                #updating Qvalues\n",
    "                reward = rewards[trial]\n",
    "                Qval[choice] = Qval[choice] + alpha*(reward - Qval[choice])\n",
    "        \n",
    "        all_likelihoods.append(np.sum(log_likelihood))    "
   ]
  },
  {
   "cell_type": "code",
   "execution_count": null,
   "metadata": {},
   "outputs": [],
   "source": [
    "#plot results as a heat map\n",
    "prob_matrix = np.array(all_likelihoods).reshape((len(alphas), len(betas))).T\n",
    "\n",
    "fig, ax = plt.subplots()\n",
    "c = ax.pcolormesh(prob_matrix, cmap='viridis', edgecolors='k', linewidths=4)\n",
    "\n",
    "ax.set_xlabel('alpha')\n",
    "ax.set_ylabel('beta')\n",
    "ax.set_xticks(np.arange(len(alphas)) + 0.5, minor=False)\n",
    "ax.set_yticks(np.arange(len(betas)) + 0.5, minor=False)\n",
    "ax.set_xticklabels(alphas, minor=False)\n",
    "ax.set_yticklabels(betas, minor=False)\n",
    "\n",
    "fig.colorbar(c, ax=ax)\n",
    "ax.set_title('Log likelihood of alpha and beta parameter combinations')\n",
    "\n",
    "#show plot\n",
    "plt.show()"
   ]
  }
 ],
 "metadata": {
  "language_info": {
   "name": "python"
  }
 },
 "nbformat": 4,
 "nbformat_minor": 2
}
